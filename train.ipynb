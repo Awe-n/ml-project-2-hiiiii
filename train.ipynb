{
 "cells": [
  {
   "cell_type": "code",
   "execution_count": 1,
   "metadata": {},
   "outputs": [
    {
     "name": "stderr",
     "output_type": "stream",
     "text": [
      "c:\\Users\\Bastien Faivre\\.conda\\envs\\myenv\\lib\\site-packages\\tqdm\\auto.py:22: TqdmWarning: IProgress not found. Please update jupyter and ipywidgets. See https://ipywidgets.readthedocs.io/en/stable/user_install.html\n",
      "  from .autonotebook import tqdm as notebook_tqdm\n"
     ]
    }
   ],
   "source": [
    "%matplotlib inline\n",
    "import matplotlib.image as mpimg\n",
    "import numpy as np\n",
    "import matplotlib.pyplot as plt\n",
    "import os, sys\n",
    "import torch\n",
    "import torch.nn as nn\n",
    "import albumentations as A\n",
    "from albumentations.pytorch import ToTensorV2\n",
    "from tqdm import tqdm\n",
    "from PIL import Image"
   ]
  },
  {
   "cell_type": "code",
   "execution_count": 2,
   "metadata": {},
   "outputs": [],
   "source": [
    "from dataset import *\n",
    "from utils import *\n",
    "from model import UNET"
   ]
  },
  {
   "cell_type": "code",
   "execution_count": 3,
   "metadata": {},
   "outputs": [],
   "source": [
    "IMAGE_HEIGHT = 400\n",
    "TEST_IMAGE_HEIGHT = 608\n",
    "IMAGE_WIDTH = 400\n",
    "TEST_IMAGE_WIDTH = 608\n",
    "DEVICE = \"cuda\" if torch.cuda.is_available() else \"cpu\"\n",
    "LEARNING_RATE = 1e-4\n",
    "TRAIN_IMAGE_DIR = \"train_data/train_images/\"\n",
    "TRAIN_GROUNDTRUTH_DIR = \"train_data/train_masks/\"\n",
    "VAL_IMAGE_DIR = \"train_data/val_images/\"\n",
    "VAL_GROUNDTRUTH_DIR = \"train_data/val_masks/\"\n",
    "TEST_IMAGE_DIR = \"test_data/\"\n",
    "BATCH_SIZE = 4\n",
    "NUM_WORKERS = 4\n",
    "PIN_MEMORY = True\n",
    "NUM_EPOCHS = 100"
   ]
  },
  {
   "cell_type": "code",
   "execution_count": 4,
   "metadata": {},
   "outputs": [],
   "source": [
    "# define transformations\n",
    "train_transform = A.Compose(\n",
    "    [\n",
    "        A.Resize(height=IMAGE_HEIGHT, width=IMAGE_WIDTH),\n",
    "        A.Rotate(limit=35, p=1.0),\n",
    "        A.HorizontalFlip(p=0.5),\n",
    "        A.VerticalFlip(p=0.1),\n",
    "        A.Normalize(\n",
    "            mean=[0.0, 0.0, 0.0],\n",
    "            std=[1.0, 1.0, 1.0],\n",
    "            max_pixel_value=255.0,\n",
    "        ),\n",
    "        ToTensorV2(),\n",
    "    ],\n",
    ")\n",
    "\n",
    "val_transforms = A.Compose(\n",
    "    [\n",
    "        A.Resize(height=IMAGE_HEIGHT, width=IMAGE_WIDTH),\n",
    "        A.Normalize(\n",
    "            mean=[0.0, 0.0, 0.0],\n",
    "            std=[1.0, 1.0, 1.0],\n",
    "            max_pixel_value=255.0,\n",
    "        ),\n",
    "        ToTensorV2(),\n",
    "    ],\n",
    ")"
   ]
  },
  {
   "cell_type": "code",
   "execution_count": 5,
   "metadata": {},
   "outputs": [],
   "source": [
    "# create model\n",
    "model = UNET(in_channels=3, out_channels=1).to(DEVICE)\n",
    "# define loss function, optimizer\n",
    "criterion = torch.nn.BCEWithLogitsLoss()\n",
    "optimizer = torch.optim.AdamW(model.parameters(), lr=LEARNING_RATE)"
   ]
  },
  {
   "cell_type": "code",
   "execution_count": 6,
   "metadata": {},
   "outputs": [],
   "source": [
    "# load data\n",
    "train_loader, val_loader = get_loaders(\n",
    "    TRAIN_IMAGE_DIR,\n",
    "    TRAIN_GROUNDTRUTH_DIR,\n",
    "    VAL_IMAGE_DIR,\n",
    "    VAL_GROUNDTRUTH_DIR,\n",
    "    BATCH_SIZE,\n",
    "    train_transform,\n",
    "    val_transforms,\n",
    "    NUM_WORKERS,\n",
    "    PIN_MEMORY\n",
    ")"
   ]
  },
  {
   "cell_type": "code",
   "execution_count": 7,
   "metadata": {},
   "outputs": [],
   "source": [
    "# compute F1 score\n",
    "def f1_score(predictions, targets):\n",
    "    predictions = torch.sigmoid(predictions)\n",
    "    predictions = (predictions > 0.5).float()\n",
    "    tp = (predictions * targets).sum()\n",
    "    fp = ((1 - targets) * predictions).sum()\n",
    "    fn = (targets * (1 - predictions)).sum()\n",
    "    f1 = (2 * tp) / (2 * tp + fp + fn)\n",
    "    return f1"
   ]
  },
  {
   "cell_type": "code",
   "execution_count": 8,
   "metadata": {},
   "outputs": [],
   "source": [
    "def train_epoch(model, optimizer, criterion, train_loader, epoch, device):\n",
    "    print(f\"Epoch {epoch+1}/{NUM_EPOCHS}\")\n",
    "    model.train()\n",
    "    train_loss = 0\n",
    "    train_f1 = 0\n",
    "    for _, (data, target) in enumerate(tqdm(train_loader)):\n",
    "        # move data to device\n",
    "        data, target = data.to(device), target.unsqueeze(1).to(device)\n",
    "        # zero the parameter gradients\n",
    "        optimizer.zero_grad()\n",
    "        # predict\n",
    "        predictions = model(data)\n",
    "        # compute loss and gradients\n",
    "        loss = criterion(predictions, target)\n",
    "        loss.backward()\n",
    "        # update weights\n",
    "        optimizer.step()\n",
    "        # compute loss and f1 score\n",
    "        train_loss += loss.item()\n",
    "        train_f1 += f1_score(predictions, target)\n",
    "    # compute average loss and f1 score\n",
    "    train_loss /= len(train_loader)\n",
    "    train_f1 /= len(train_loader)\n",
    "    print('Train set: Average loss: {:.4f}\\tAverage F1: {:.4f}'.format(train_loss, train_f1))\n",
    "    return train_loss, train_f1"
   ]
  },
  {
   "cell_type": "code",
   "execution_count": 9,
   "metadata": {},
   "outputs": [],
   "source": [
    "@torch.no_grad()\n",
    "def validate(model, criterion, val_loader, device):\n",
    "    model.eval()\n",
    "    val_loss = 0\n",
    "    val_f1 = 0\n",
    "    for _, (data, target) in enumerate(val_loader):\n",
    "        # move data to device\n",
    "        data, target = data.to(device), target.unsqueeze(1).to(device)\n",
    "        # predict\n",
    "        predictions = model(data)\n",
    "        # compute loss and f1 score\n",
    "        val_loss += criterion(predictions, target).item()\n",
    "        val_f1 += f1_score(predictions, target)\n",
    "    # compute average loss and f1 score\n",
    "    val_loss /= len(val_loader)\n",
    "    val_f1 /= len(val_loader)\n",
    "    print('Validation set: Average loss: {:.4f}\\tAverage F1: {:.4f}'.format(val_loss, val_f1))\n",
    "    model.train()\n",
    "    return val_loss, val_f1"
   ]
  },
  {
   "cell_type": "code",
   "execution_count": 10,
   "metadata": {},
   "outputs": [
    {
     "name": "stdout",
     "output_type": "stream",
     "text": [
      "Epoch 1/100\n"
     ]
    },
    {
     "name": "stderr",
     "output_type": "stream",
     "text": [
      "100%|██████████| 20/20 [00:14<00:00,  1.37it/s]\n"
     ]
    },
    {
     "name": "stdout",
     "output_type": "stream",
     "text": [
      "Train set: Average loss: 0.5674\tAverage F1: 0.4409\n",
      "Validation set: Average loss: 0.8440\tAverage F1: 0.3438\n",
      "=> Saving checkpoint\n",
      "Epoch 2/100\n"
     ]
    },
    {
     "name": "stderr",
     "output_type": "stream",
     "text": [
      "100%|██████████| 20/20 [00:10<00:00,  1.91it/s]\n"
     ]
    },
    {
     "name": "stdout",
     "output_type": "stream",
     "text": [
      "Train set: Average loss: 0.4816\tAverage F1: 0.5591\n",
      "Validation set: Average loss: 0.6230\tAverage F1: 0.4567\n",
      "=> Saving checkpoint\n",
      "Epoch 3/100\n"
     ]
    },
    {
     "name": "stderr",
     "output_type": "stream",
     "text": [
      "100%|██████████| 20/20 [00:10<00:00,  1.90it/s]\n"
     ]
    },
    {
     "name": "stdout",
     "output_type": "stream",
     "text": [
      "Train set: Average loss: 0.4126\tAverage F1: 0.6525\n",
      "Validation set: Average loss: 0.5528\tAverage F1: 0.5931\n",
      "=> Saving checkpoint\n",
      "Epoch 4/100\n"
     ]
    },
    {
     "name": "stderr",
     "output_type": "stream",
     "text": [
      "100%|██████████| 20/20 [00:10<00:00,  1.90it/s]\n"
     ]
    },
    {
     "name": "stdout",
     "output_type": "stream",
     "text": [
      "Train set: Average loss: 0.3824\tAverage F1: 0.6670\n",
      "Validation set: Average loss: 0.3961\tAverage F1: 0.6584\n",
      "=> Saving checkpoint\n",
      "Epoch 5/100\n"
     ]
    },
    {
     "name": "stderr",
     "output_type": "stream",
     "text": [
      "100%|██████████| 20/20 [00:10<00:00,  1.89it/s]\n"
     ]
    },
    {
     "name": "stdout",
     "output_type": "stream",
     "text": [
      "Train set: Average loss: 0.3433\tAverage F1: 0.7108\n",
      "Validation set: Average loss: 0.3354\tAverage F1: 0.6814\n",
      "=> Saving checkpoint\n",
      "Epoch 6/100\n"
     ]
    },
    {
     "name": "stderr",
     "output_type": "stream",
     "text": [
      "100%|██████████| 20/20 [00:10<00:00,  1.90it/s]\n"
     ]
    },
    {
     "name": "stdout",
     "output_type": "stream",
     "text": [
      "Train set: Average loss: 0.3158\tAverage F1: 0.7300\n",
      "Validation set: Average loss: 0.3592\tAverage F1: 0.6717\n",
      "=> Saving checkpoint\n",
      "Epoch 7/100\n"
     ]
    },
    {
     "name": "stderr",
     "output_type": "stream",
     "text": [
      "100%|██████████| 20/20 [00:10<00:00,  1.89it/s]\n"
     ]
    },
    {
     "name": "stdout",
     "output_type": "stream",
     "text": [
      "Train set: Average loss: 0.3049\tAverage F1: 0.7304\n",
      "Validation set: Average loss: 0.3160\tAverage F1: 0.6367\n",
      "=> Saving checkpoint\n",
      "Epoch 8/100\n"
     ]
    },
    {
     "name": "stderr",
     "output_type": "stream",
     "text": [
      "100%|██████████| 20/20 [00:10<00:00,  1.90it/s]\n"
     ]
    },
    {
     "name": "stdout",
     "output_type": "stream",
     "text": [
      "Train set: Average loss: 0.2880\tAverage F1: 0.7487\n",
      "Validation set: Average loss: 0.3110\tAverage F1: 0.6886\n",
      "=> Saving checkpoint\n",
      "Epoch 9/100\n"
     ]
    },
    {
     "name": "stderr",
     "output_type": "stream",
     "text": [
      "100%|██████████| 20/20 [00:10<00:00,  1.90it/s]\n"
     ]
    },
    {
     "name": "stdout",
     "output_type": "stream",
     "text": [
      "Train set: Average loss: 0.2779\tAverage F1: 0.7609\n",
      "Validation set: Average loss: 0.3060\tAverage F1: 0.6835\n",
      "=> Saving checkpoint\n",
      "Epoch 10/100\n"
     ]
    },
    {
     "name": "stderr",
     "output_type": "stream",
     "text": [
      "100%|██████████| 20/20 [00:10<00:00,  1.90it/s]\n"
     ]
    },
    {
     "name": "stdout",
     "output_type": "stream",
     "text": [
      "Train set: Average loss: 0.2653\tAverage F1: 0.7760\n",
      "Validation set: Average loss: 0.3019\tAverage F1: 0.6749\n",
      "=> Saving checkpoint\n",
      "Epoch 11/100\n"
     ]
    },
    {
     "name": "stderr",
     "output_type": "stream",
     "text": [
      "100%|██████████| 20/20 [00:10<00:00,  1.90it/s]\n"
     ]
    },
    {
     "name": "stdout",
     "output_type": "stream",
     "text": [
      "Train set: Average loss: 0.2624\tAverage F1: 0.7690\n",
      "Validation set: Average loss: 0.3516\tAverage F1: 0.6916\n",
      "=> Saving checkpoint\n",
      "Epoch 12/100\n"
     ]
    },
    {
     "name": "stderr",
     "output_type": "stream",
     "text": [
      "100%|██████████| 20/20 [00:10<00:00,  1.90it/s]\n"
     ]
    },
    {
     "name": "stdout",
     "output_type": "stream",
     "text": [
      "Train set: Average loss: 0.2496\tAverage F1: 0.7820\n",
      "Validation set: Average loss: 0.3113\tAverage F1: 0.6599\n",
      "=> Saving checkpoint\n",
      "Epoch 13/100\n"
     ]
    },
    {
     "name": "stderr",
     "output_type": "stream",
     "text": [
      "100%|██████████| 20/20 [00:10<00:00,  1.90it/s]\n"
     ]
    },
    {
     "name": "stdout",
     "output_type": "stream",
     "text": [
      "Train set: Average loss: 0.2496\tAverage F1: 0.7793\n",
      "Validation set: Average loss: 0.2796\tAverage F1: 0.7097\n",
      "=> Saving checkpoint\n",
      "Epoch 14/100\n"
     ]
    },
    {
     "name": "stderr",
     "output_type": "stream",
     "text": [
      "100%|██████████| 20/20 [00:10<00:00,  1.88it/s]\n"
     ]
    },
    {
     "name": "stdout",
     "output_type": "stream",
     "text": [
      "Train set: Average loss: 0.2377\tAverage F1: 0.7941\n",
      "Validation set: Average loss: 0.2765\tAverage F1: 0.7102\n",
      "=> Saving checkpoint\n",
      "Epoch 15/100\n"
     ]
    },
    {
     "name": "stderr",
     "output_type": "stream",
     "text": [
      "100%|██████████| 20/20 [00:10<00:00,  1.89it/s]\n"
     ]
    },
    {
     "name": "stdout",
     "output_type": "stream",
     "text": [
      "Train set: Average loss: 0.2238\tAverage F1: 0.8197\n",
      "Validation set: Average loss: 0.2672\tAverage F1: 0.7461\n",
      "=> Saving checkpoint\n",
      "Epoch 16/100\n"
     ]
    },
    {
     "name": "stderr",
     "output_type": "stream",
     "text": [
      "100%|██████████| 20/20 [00:10<00:00,  1.89it/s]\n"
     ]
    },
    {
     "name": "stdout",
     "output_type": "stream",
     "text": [
      "Train set: Average loss: 0.2311\tAverage F1: 0.7976\n",
      "Validation set: Average loss: 0.3185\tAverage F1: 0.5388\n",
      "=> Saving checkpoint\n",
      "Epoch 17/100\n"
     ]
    },
    {
     "name": "stderr",
     "output_type": "stream",
     "text": [
      "100%|██████████| 20/20 [00:10<00:00,  1.89it/s]\n"
     ]
    },
    {
     "name": "stdout",
     "output_type": "stream",
     "text": [
      "Train set: Average loss: 0.2306\tAverage F1: 0.8022\n",
      "Validation set: Average loss: 0.2715\tAverage F1: 0.7392\n",
      "=> Saving checkpoint\n",
      "Epoch 18/100\n"
     ]
    },
    {
     "name": "stderr",
     "output_type": "stream",
     "text": [
      "100%|██████████| 20/20 [00:10<00:00,  1.90it/s]\n"
     ]
    },
    {
     "name": "stdout",
     "output_type": "stream",
     "text": [
      "Train set: Average loss: 0.2174\tAverage F1: 0.8133\n",
      "Validation set: Average loss: 0.2530\tAverage F1: 0.7503\n",
      "=> Saving checkpoint\n",
      "Epoch 19/100\n"
     ]
    },
    {
     "name": "stderr",
     "output_type": "stream",
     "text": [
      "100%|██████████| 20/20 [00:10<00:00,  1.90it/s]\n"
     ]
    },
    {
     "name": "stdout",
     "output_type": "stream",
     "text": [
      "Train set: Average loss: 0.2114\tAverage F1: 0.8160\n",
      "Validation set: Average loss: 0.2607\tAverage F1: 0.7228\n",
      "=> Saving checkpoint\n",
      "Epoch 20/100\n"
     ]
    },
    {
     "name": "stderr",
     "output_type": "stream",
     "text": [
      "100%|██████████| 20/20 [00:10<00:00,  1.90it/s]\n"
     ]
    },
    {
     "name": "stdout",
     "output_type": "stream",
     "text": [
      "Train set: Average loss: 0.2004\tAverage F1: 0.8312\n",
      "Validation set: Average loss: 0.2470\tAverage F1: 0.7474\n",
      "=> Saving checkpoint\n",
      "Epoch 21/100\n"
     ]
    },
    {
     "name": "stderr",
     "output_type": "stream",
     "text": [
      "100%|██████████| 20/20 [00:10<00:00,  1.90it/s]\n"
     ]
    },
    {
     "name": "stdout",
     "output_type": "stream",
     "text": [
      "Train set: Average loss: 0.1937\tAverage F1: 0.8364\n",
      "Validation set: Average loss: 0.2444\tAverage F1: 0.7524\n",
      "=> Saving checkpoint\n",
      "Epoch 22/100\n"
     ]
    },
    {
     "name": "stderr",
     "output_type": "stream",
     "text": [
      "100%|██████████| 20/20 [00:10<00:00,  1.89it/s]\n"
     ]
    },
    {
     "name": "stdout",
     "output_type": "stream",
     "text": [
      "Train set: Average loss: 0.1900\tAverage F1: 0.8414\n",
      "Validation set: Average loss: 0.2541\tAverage F1: 0.7213\n",
      "=> Saving checkpoint\n",
      "Epoch 23/100\n"
     ]
    },
    {
     "name": "stderr",
     "output_type": "stream",
     "text": [
      "100%|██████████| 20/20 [00:10<00:00,  1.89it/s]\n"
     ]
    },
    {
     "name": "stdout",
     "output_type": "stream",
     "text": [
      "Train set: Average loss: 0.1920\tAverage F1: 0.8324\n",
      "Validation set: Average loss: 0.2381\tAverage F1: 0.7138\n",
      "=> Saving checkpoint\n",
      "Epoch 24/100\n"
     ]
    },
    {
     "name": "stderr",
     "output_type": "stream",
     "text": [
      "100%|██████████| 20/20 [00:10<00:00,  1.92it/s]\n"
     ]
    },
    {
     "name": "stdout",
     "output_type": "stream",
     "text": [
      "Train set: Average loss: 0.1917\tAverage F1: 0.8322\n",
      "Validation set: Average loss: 0.2444\tAverage F1: 0.7478\n",
      "=> Saving checkpoint\n",
      "Epoch 25/100\n"
     ]
    },
    {
     "name": "stderr",
     "output_type": "stream",
     "text": [
      "100%|██████████| 20/20 [00:09<00:00,  2.02it/s]\n"
     ]
    },
    {
     "name": "stdout",
     "output_type": "stream",
     "text": [
      "Train set: Average loss: 0.1827\tAverage F1: 0.8423\n",
      "Validation set: Average loss: 0.2546\tAverage F1: 0.6983\n",
      "=> Saving checkpoint\n",
      "Epoch 26/100\n"
     ]
    },
    {
     "name": "stderr",
     "output_type": "stream",
     "text": [
      "100%|██████████| 20/20 [00:10<00:00,  1.89it/s]\n"
     ]
    },
    {
     "name": "stdout",
     "output_type": "stream",
     "text": [
      "Train set: Average loss: 0.1799\tAverage F1: 0.8465\n",
      "Validation set: Average loss: 0.2236\tAverage F1: 0.7500\n",
      "=> Saving checkpoint\n",
      "Epoch 27/100\n"
     ]
    },
    {
     "name": "stderr",
     "output_type": "stream",
     "text": [
      "100%|██████████| 20/20 [00:10<00:00,  1.89it/s]\n"
     ]
    },
    {
     "name": "stdout",
     "output_type": "stream",
     "text": [
      "Train set: Average loss: 0.1943\tAverage F1: 0.8206\n",
      "Validation set: Average loss: 0.2383\tAverage F1: 0.7472\n",
      "=> Saving checkpoint\n",
      "Epoch 28/100\n"
     ]
    },
    {
     "name": "stderr",
     "output_type": "stream",
     "text": [
      "100%|██████████| 20/20 [00:10<00:00,  1.90it/s]\n"
     ]
    },
    {
     "name": "stdout",
     "output_type": "stream",
     "text": [
      "Train set: Average loss: 0.1808\tAverage F1: 0.8389\n",
      "Validation set: Average loss: 0.2244\tAverage F1: 0.7455\n",
      "=> Saving checkpoint\n",
      "Epoch 29/100\n"
     ]
    },
    {
     "name": "stderr",
     "output_type": "stream",
     "text": [
      "100%|██████████| 20/20 [00:10<00:00,  1.89it/s]\n"
     ]
    },
    {
     "name": "stdout",
     "output_type": "stream",
     "text": [
      "Train set: Average loss: 0.1789\tAverage F1: 0.8417\n",
      "Validation set: Average loss: 0.2147\tAverage F1: 0.7858\n",
      "=> Saving checkpoint\n",
      "Epoch 30/100\n"
     ]
    },
    {
     "name": "stderr",
     "output_type": "stream",
     "text": [
      "100%|██████████| 20/20 [00:10<00:00,  1.89it/s]\n"
     ]
    },
    {
     "name": "stdout",
     "output_type": "stream",
     "text": [
      "Train set: Average loss: 0.1751\tAverage F1: 0.8421\n",
      "Validation set: Average loss: 0.2210\tAverage F1: 0.7837\n",
      "=> Saving checkpoint\n",
      "Epoch 31/100\n"
     ]
    },
    {
     "name": "stderr",
     "output_type": "stream",
     "text": [
      "100%|██████████| 20/20 [00:10<00:00,  1.90it/s]\n"
     ]
    },
    {
     "name": "stdout",
     "output_type": "stream",
     "text": [
      "Train set: Average loss: 0.1756\tAverage F1: 0.8387\n",
      "Validation set: Average loss: 0.2270\tAverage F1: 0.7380\n",
      "=> Saving checkpoint\n",
      "Epoch 32/100\n"
     ]
    },
    {
     "name": "stderr",
     "output_type": "stream",
     "text": [
      "100%|██████████| 20/20 [00:10<00:00,  1.89it/s]\n"
     ]
    },
    {
     "name": "stdout",
     "output_type": "stream",
     "text": [
      "Train set: Average loss: 0.1811\tAverage F1: 0.8228\n",
      "Validation set: Average loss: 0.2243\tAverage F1: 0.7509\n",
      "=> Saving checkpoint\n",
      "Epoch 33/100\n"
     ]
    },
    {
     "name": "stderr",
     "output_type": "stream",
     "text": [
      "100%|██████████| 20/20 [00:10<00:00,  1.89it/s]\n"
     ]
    },
    {
     "name": "stdout",
     "output_type": "stream",
     "text": [
      "Train set: Average loss: 0.1677\tAverage F1: 0.8473\n",
      "Validation set: Average loss: 0.2165\tAverage F1: 0.7842\n",
      "=> Saving checkpoint\n",
      "Epoch 34/100\n"
     ]
    },
    {
     "name": "stderr",
     "output_type": "stream",
     "text": [
      "100%|██████████| 20/20 [00:10<00:00,  1.88it/s]\n"
     ]
    },
    {
     "name": "stdout",
     "output_type": "stream",
     "text": [
      "Train set: Average loss: 0.1748\tAverage F1: 0.8352\n",
      "Validation set: Average loss: 0.2245\tAverage F1: 0.7641\n",
      "=> Saving checkpoint\n",
      "Epoch 35/100\n"
     ]
    },
    {
     "name": "stderr",
     "output_type": "stream",
     "text": [
      "100%|██████████| 20/20 [00:10<00:00,  1.89it/s]\n"
     ]
    },
    {
     "name": "stdout",
     "output_type": "stream",
     "text": [
      "Train set: Average loss: 0.1626\tAverage F1: 0.8547\n",
      "Validation set: Average loss: 0.2194\tAverage F1: 0.7865\n",
      "=> Saving checkpoint\n",
      "Epoch 36/100\n"
     ]
    },
    {
     "name": "stderr",
     "output_type": "stream",
     "text": [
      "100%|██████████| 20/20 [00:10<00:00,  1.89it/s]\n"
     ]
    },
    {
     "name": "stdout",
     "output_type": "stream",
     "text": [
      "Train set: Average loss: 0.1558\tAverage F1: 0.8616\n",
      "Validation set: Average loss: 0.2567\tAverage F1: 0.6978\n",
      "=> Saving checkpoint\n",
      "Epoch 37/100\n"
     ]
    },
    {
     "name": "stderr",
     "output_type": "stream",
     "text": [
      "100%|██████████| 20/20 [00:10<00:00,  1.89it/s]\n"
     ]
    },
    {
     "name": "stdout",
     "output_type": "stream",
     "text": [
      "Train set: Average loss: 0.1514\tAverage F1: 0.8674\n",
      "Validation set: Average loss: 0.1963\tAverage F1: 0.7976\n",
      "=> Saving checkpoint\n",
      "Epoch 38/100\n"
     ]
    },
    {
     "name": "stderr",
     "output_type": "stream",
     "text": [
      "100%|██████████| 20/20 [00:10<00:00,  1.89it/s]\n"
     ]
    },
    {
     "name": "stdout",
     "output_type": "stream",
     "text": [
      "Train set: Average loss: 0.1549\tAverage F1: 0.8605\n",
      "Validation set: Average loss: 0.2363\tAverage F1: 0.6992\n",
      "=> Saving checkpoint\n",
      "Epoch 39/100\n"
     ]
    },
    {
     "name": "stderr",
     "output_type": "stream",
     "text": [
      "100%|██████████| 20/20 [00:10<00:00,  1.89it/s]\n"
     ]
    },
    {
     "name": "stdout",
     "output_type": "stream",
     "text": [
      "Train set: Average loss: 0.1514\tAverage F1: 0.8620\n",
      "Validation set: Average loss: 0.2064\tAverage F1: 0.7655\n",
      "=> Saving checkpoint\n",
      "Epoch 40/100\n"
     ]
    },
    {
     "name": "stderr",
     "output_type": "stream",
     "text": [
      "100%|██████████| 20/20 [00:10<00:00,  1.89it/s]\n"
     ]
    },
    {
     "name": "stdout",
     "output_type": "stream",
     "text": [
      "Train set: Average loss: 0.1478\tAverage F1: 0.8649\n",
      "Validation set: Average loss: 0.2005\tAverage F1: 0.7791\n",
      "=> Saving checkpoint\n",
      "Epoch 41/100\n"
     ]
    },
    {
     "name": "stderr",
     "output_type": "stream",
     "text": [
      "100%|██████████| 20/20 [00:10<00:00,  1.89it/s]\n"
     ]
    },
    {
     "name": "stdout",
     "output_type": "stream",
     "text": [
      "Train set: Average loss: 0.1453\tAverage F1: 0.8709\n",
      "Validation set: Average loss: 0.2259\tAverage F1: 0.7355\n",
      "=> Saving checkpoint\n",
      "Epoch 42/100\n"
     ]
    },
    {
     "name": "stderr",
     "output_type": "stream",
     "text": [
      "100%|██████████| 20/20 [00:10<00:00,  1.89it/s]\n"
     ]
    },
    {
     "name": "stdout",
     "output_type": "stream",
     "text": [
      "Train set: Average loss: 0.1441\tAverage F1: 0.8699\n",
      "Validation set: Average loss: 0.1975\tAverage F1: 0.7786\n",
      "=> Saving checkpoint\n",
      "Epoch 43/100\n"
     ]
    },
    {
     "name": "stderr",
     "output_type": "stream",
     "text": [
      "100%|██████████| 20/20 [00:10<00:00,  1.89it/s]\n"
     ]
    },
    {
     "name": "stdout",
     "output_type": "stream",
     "text": [
      "Train set: Average loss: 0.1378\tAverage F1: 0.8740\n",
      "Validation set: Average loss: 0.2056\tAverage F1: 0.7739\n",
      "=> Saving checkpoint\n",
      "Epoch 44/100\n"
     ]
    },
    {
     "name": "stderr",
     "output_type": "stream",
     "text": [
      "100%|██████████| 20/20 [00:10<00:00,  1.89it/s]\n"
     ]
    },
    {
     "name": "stdout",
     "output_type": "stream",
     "text": [
      "Train set: Average loss: 0.1396\tAverage F1: 0.8736\n",
      "Validation set: Average loss: 0.2253\tAverage F1: 0.7516\n",
      "=> Saving checkpoint\n",
      "Epoch 45/100\n"
     ]
    },
    {
     "name": "stderr",
     "output_type": "stream",
     "text": [
      "100%|██████████| 20/20 [00:10<00:00,  1.89it/s]\n"
     ]
    },
    {
     "name": "stdout",
     "output_type": "stream",
     "text": [
      "Train set: Average loss: 0.1319\tAverage F1: 0.8794\n",
      "Validation set: Average loss: 0.1831\tAverage F1: 0.8084\n",
      "=> Saving checkpoint\n",
      "Epoch 46/100\n"
     ]
    },
    {
     "name": "stderr",
     "output_type": "stream",
     "text": [
      "100%|██████████| 20/20 [00:10<00:00,  1.90it/s]\n"
     ]
    },
    {
     "name": "stdout",
     "output_type": "stream",
     "text": [
      "Train set: Average loss: 0.1335\tAverage F1: 0.8749\n",
      "Validation set: Average loss: 0.2156\tAverage F1: 0.7580\n",
      "=> Saving checkpoint\n",
      "Epoch 47/100\n"
     ]
    },
    {
     "name": "stderr",
     "output_type": "stream",
     "text": [
      "100%|██████████| 20/20 [00:10<00:00,  1.90it/s]\n"
     ]
    },
    {
     "name": "stdout",
     "output_type": "stream",
     "text": [
      "Train set: Average loss: 0.1406\tAverage F1: 0.8692\n",
      "Validation set: Average loss: 0.2278\tAverage F1: 0.7490\n",
      "=> Saving checkpoint\n",
      "Epoch 48/100\n"
     ]
    },
    {
     "name": "stderr",
     "output_type": "stream",
     "text": [
      "100%|██████████| 20/20 [00:10<00:00,  1.89it/s]\n"
     ]
    },
    {
     "name": "stdout",
     "output_type": "stream",
     "text": [
      "Train set: Average loss: 0.1397\tAverage F1: 0.8702\n",
      "Validation set: Average loss: 0.1942\tAverage F1: 0.7871\n",
      "=> Saving checkpoint\n",
      "Epoch 49/100\n"
     ]
    },
    {
     "name": "stderr",
     "output_type": "stream",
     "text": [
      "100%|██████████| 20/20 [00:10<00:00,  1.89it/s]\n"
     ]
    },
    {
     "name": "stdout",
     "output_type": "stream",
     "text": [
      "Train set: Average loss: 0.1351\tAverage F1: 0.8716\n",
      "Validation set: Average loss: 0.2031\tAverage F1: 0.7637\n",
      "=> Saving checkpoint\n",
      "Epoch 50/100\n"
     ]
    },
    {
     "name": "stderr",
     "output_type": "stream",
     "text": [
      "100%|██████████| 20/20 [00:10<00:00,  1.89it/s]\n"
     ]
    },
    {
     "name": "stdout",
     "output_type": "stream",
     "text": [
      "Train set: Average loss: 0.1335\tAverage F1: 0.8726\n",
      "Validation set: Average loss: 0.1997\tAverage F1: 0.7664\n",
      "=> Saving checkpoint\n",
      "Epoch 51/100\n"
     ]
    },
    {
     "name": "stderr",
     "output_type": "stream",
     "text": [
      "100%|██████████| 20/20 [00:10<00:00,  1.88it/s]\n"
     ]
    },
    {
     "name": "stdout",
     "output_type": "stream",
     "text": [
      "Train set: Average loss: 0.1263\tAverage F1: 0.8839\n",
      "Validation set: Average loss: 0.2230\tAverage F1: 0.7804\n",
      "=> Saving checkpoint\n",
      "Epoch 52/100\n"
     ]
    },
    {
     "name": "stderr",
     "output_type": "stream",
     "text": [
      "100%|██████████| 20/20 [00:10<00:00,  1.89it/s]\n"
     ]
    },
    {
     "name": "stdout",
     "output_type": "stream",
     "text": [
      "Train set: Average loss: 0.1314\tAverage F1: 0.8747\n",
      "Validation set: Average loss: 0.2163\tAverage F1: 0.7585\n",
      "=> Saving checkpoint\n",
      "Epoch 53/100\n"
     ]
    },
    {
     "name": "stderr",
     "output_type": "stream",
     "text": [
      "100%|██████████| 20/20 [00:10<00:00,  1.90it/s]\n"
     ]
    },
    {
     "name": "stdout",
     "output_type": "stream",
     "text": [
      "Train set: Average loss: 0.1325\tAverage F1: 0.8758\n",
      "Validation set: Average loss: 0.1958\tAverage F1: 0.7735\n",
      "=> Saving checkpoint\n",
      "Epoch 54/100\n"
     ]
    },
    {
     "name": "stderr",
     "output_type": "stream",
     "text": [
      "100%|██████████| 20/20 [00:10<00:00,  1.89it/s]\n"
     ]
    },
    {
     "name": "stdout",
     "output_type": "stream",
     "text": [
      "Train set: Average loss: 0.1274\tAverage F1: 0.8828\n",
      "Validation set: Average loss: 0.1988\tAverage F1: 0.7791\n",
      "=> Saving checkpoint\n",
      "Epoch 55/100\n"
     ]
    },
    {
     "name": "stderr",
     "output_type": "stream",
     "text": [
      "100%|██████████| 20/20 [00:10<00:00,  1.85it/s]\n"
     ]
    },
    {
     "name": "stdout",
     "output_type": "stream",
     "text": [
      "Train set: Average loss: 0.1277\tAverage F1: 0.8777\n",
      "Validation set: Average loss: 0.2072\tAverage F1: 0.7539\n",
      "=> Saving checkpoint\n",
      "Epoch 56/100\n"
     ]
    },
    {
     "name": "stderr",
     "output_type": "stream",
     "text": [
      "100%|██████████| 20/20 [00:10<00:00,  1.85it/s]\n"
     ]
    },
    {
     "name": "stdout",
     "output_type": "stream",
     "text": [
      "Train set: Average loss: 0.1276\tAverage F1: 0.8771\n",
      "Validation set: Average loss: 0.1957\tAverage F1: 0.7816\n",
      "=> Saving checkpoint\n",
      "Epoch 57/100\n"
     ]
    },
    {
     "name": "stderr",
     "output_type": "stream",
     "text": [
      "100%|██████████| 20/20 [00:10<00:00,  1.89it/s]\n"
     ]
    },
    {
     "name": "stdout",
     "output_type": "stream",
     "text": [
      "Train set: Average loss: 0.1218\tAverage F1: 0.8833\n",
      "Validation set: Average loss: 0.1876\tAverage F1: 0.7835\n",
      "=> Saving checkpoint\n",
      "Epoch 58/100\n"
     ]
    },
    {
     "name": "stderr",
     "output_type": "stream",
     "text": [
      "100%|██████████| 20/20 [00:10<00:00,  1.90it/s]\n"
     ]
    },
    {
     "name": "stdout",
     "output_type": "stream",
     "text": [
      "Train set: Average loss: 0.1164\tAverage F1: 0.8926\n",
      "Validation set: Average loss: 0.2152\tAverage F1: 0.7559\n",
      "=> Saving checkpoint\n",
      "Epoch 59/100\n"
     ]
    },
    {
     "name": "stderr",
     "output_type": "stream",
     "text": [
      "100%|██████████| 20/20 [00:10<00:00,  1.89it/s]\n"
     ]
    },
    {
     "name": "stdout",
     "output_type": "stream",
     "text": [
      "Train set: Average loss: 0.1253\tAverage F1: 0.8719\n",
      "Validation set: Average loss: 0.1982\tAverage F1: 0.7713\n",
      "=> Saving checkpoint\n",
      "Epoch 60/100\n"
     ]
    },
    {
     "name": "stderr",
     "output_type": "stream",
     "text": [
      "100%|██████████| 20/20 [00:09<00:00,  2.01it/s]\n"
     ]
    },
    {
     "name": "stdout",
     "output_type": "stream",
     "text": [
      "Train set: Average loss: 0.1220\tAverage F1: 0.8857\n",
      "Validation set: Average loss: 0.2080\tAverage F1: 0.7821\n",
      "=> Saving checkpoint\n",
      "Epoch 61/100\n"
     ]
    },
    {
     "name": "stderr",
     "output_type": "stream",
     "text": [
      "100%|██████████| 20/20 [00:09<00:00,  2.04it/s]\n"
     ]
    },
    {
     "name": "stdout",
     "output_type": "stream",
     "text": [
      "Train set: Average loss: 0.1215\tAverage F1: 0.8838\n",
      "Validation set: Average loss: 0.2138\tAverage F1: 0.7614\n",
      "=> Saving checkpoint\n",
      "Epoch 62/100\n"
     ]
    },
    {
     "name": "stderr",
     "output_type": "stream",
     "text": [
      "100%|██████████| 20/20 [00:10<00:00,  1.89it/s]\n"
     ]
    },
    {
     "name": "stdout",
     "output_type": "stream",
     "text": [
      "Train set: Average loss: 0.1207\tAverage F1: 0.8840\n",
      "Validation set: Average loss: 0.2220\tAverage F1: 0.7441\n",
      "=> Saving checkpoint\n",
      "Epoch 63/100\n"
     ]
    },
    {
     "name": "stderr",
     "output_type": "stream",
     "text": [
      "100%|██████████| 20/20 [00:10<00:00,  1.89it/s]\n"
     ]
    },
    {
     "name": "stdout",
     "output_type": "stream",
     "text": [
      "Train set: Average loss: 0.1241\tAverage F1: 0.8796\n",
      "Validation set: Average loss: 0.2040\tAverage F1: 0.7828\n",
      "=> Saving checkpoint\n",
      "Epoch 64/100\n"
     ]
    },
    {
     "name": "stderr",
     "output_type": "stream",
     "text": [
      "100%|██████████| 20/20 [00:10<00:00,  1.89it/s]\n"
     ]
    },
    {
     "name": "stdout",
     "output_type": "stream",
     "text": [
      "Train set: Average loss: 0.1163\tAverage F1: 0.8863\n",
      "Validation set: Average loss: 0.1943\tAverage F1: 0.7916\n",
      "=> Saving checkpoint\n",
      "Epoch 65/100\n"
     ]
    },
    {
     "name": "stderr",
     "output_type": "stream",
     "text": [
      "100%|██████████| 20/20 [00:10<00:00,  1.89it/s]\n"
     ]
    },
    {
     "name": "stdout",
     "output_type": "stream",
     "text": [
      "Train set: Average loss: 0.1143\tAverage F1: 0.8896\n",
      "Validation set: Average loss: 0.2019\tAverage F1: 0.7846\n",
      "=> Saving checkpoint\n",
      "Epoch 66/100\n"
     ]
    },
    {
     "name": "stderr",
     "output_type": "stream",
     "text": [
      "100%|██████████| 20/20 [00:10<00:00,  1.89it/s]\n"
     ]
    },
    {
     "name": "stdout",
     "output_type": "stream",
     "text": [
      "Train set: Average loss: 0.1181\tAverage F1: 0.8854\n",
      "Validation set: Average loss: 0.2009\tAverage F1: 0.7975\n",
      "=> Saving checkpoint\n",
      "Epoch 67/100\n"
     ]
    },
    {
     "name": "stderr",
     "output_type": "stream",
     "text": [
      "100%|██████████| 20/20 [00:10<00:00,  1.89it/s]\n"
     ]
    },
    {
     "name": "stdout",
     "output_type": "stream",
     "text": [
      "Train set: Average loss: 0.1170\tAverage F1: 0.8907\n",
      "Validation set: Average loss: 0.1881\tAverage F1: 0.8064\n",
      "=> Saving checkpoint\n",
      "Epoch 68/100\n"
     ]
    },
    {
     "name": "stderr",
     "output_type": "stream",
     "text": [
      "100%|██████████| 20/20 [00:10<00:00,  1.88it/s]\n"
     ]
    },
    {
     "name": "stdout",
     "output_type": "stream",
     "text": [
      "Train set: Average loss: 0.1136\tAverage F1: 0.8884\n",
      "Validation set: Average loss: 0.1826\tAverage F1: 0.8037\n",
      "=> Saving checkpoint\n",
      "Epoch 69/100\n"
     ]
    },
    {
     "name": "stderr",
     "output_type": "stream",
     "text": [
      "100%|██████████| 20/20 [00:10<00:00,  1.90it/s]\n"
     ]
    },
    {
     "name": "stdout",
     "output_type": "stream",
     "text": [
      "Train set: Average loss: 0.1071\tAverage F1: 0.8968\n",
      "Validation set: Average loss: 0.1798\tAverage F1: 0.8022\n",
      "=> Saving checkpoint\n",
      "Epoch 70/100\n"
     ]
    },
    {
     "name": "stderr",
     "output_type": "stream",
     "text": [
      "100%|██████████| 20/20 [00:10<00:00,  1.90it/s]\n"
     ]
    },
    {
     "name": "stdout",
     "output_type": "stream",
     "text": [
      "Train set: Average loss: 0.1039\tAverage F1: 0.8992\n",
      "Validation set: Average loss: 0.1835\tAverage F1: 0.8037\n",
      "=> Saving checkpoint\n",
      "Epoch 71/100\n"
     ]
    },
    {
     "name": "stderr",
     "output_type": "stream",
     "text": [
      "100%|██████████| 20/20 [00:10<00:00,  1.89it/s]\n"
     ]
    },
    {
     "name": "stdout",
     "output_type": "stream",
     "text": [
      "Train set: Average loss: 0.1067\tAverage F1: 0.8974\n",
      "Validation set: Average loss: 0.1802\tAverage F1: 0.8123\n",
      "=> Saving checkpoint\n",
      "Epoch 72/100\n"
     ]
    },
    {
     "name": "stderr",
     "output_type": "stream",
     "text": [
      "100%|██████████| 20/20 [00:10<00:00,  1.89it/s]\n"
     ]
    },
    {
     "name": "stdout",
     "output_type": "stream",
     "text": [
      "Train set: Average loss: 0.1082\tAverage F1: 0.8970\n",
      "Validation set: Average loss: 0.2230\tAverage F1: 0.7536\n",
      "=> Saving checkpoint\n",
      "Epoch 73/100\n"
     ]
    },
    {
     "name": "stderr",
     "output_type": "stream",
     "text": [
      "100%|██████████| 20/20 [00:10<00:00,  1.89it/s]\n"
     ]
    },
    {
     "name": "stdout",
     "output_type": "stream",
     "text": [
      "Train set: Average loss: 0.1064\tAverage F1: 0.8960\n",
      "Validation set: Average loss: 0.1817\tAverage F1: 0.8027\n",
      "=> Saving checkpoint\n",
      "Epoch 74/100\n"
     ]
    },
    {
     "name": "stderr",
     "output_type": "stream",
     "text": [
      "100%|██████████| 20/20 [00:10<00:00,  1.89it/s]\n"
     ]
    },
    {
     "name": "stdout",
     "output_type": "stream",
     "text": [
      "Train set: Average loss: 0.1062\tAverage F1: 0.8966\n",
      "Validation set: Average loss: 0.1932\tAverage F1: 0.7958\n",
      "=> Saving checkpoint\n",
      "Epoch 75/100\n"
     ]
    },
    {
     "name": "stderr",
     "output_type": "stream",
     "text": [
      "100%|██████████| 20/20 [00:10<00:00,  1.89it/s]\n"
     ]
    },
    {
     "name": "stdout",
     "output_type": "stream",
     "text": [
      "Train set: Average loss: 0.0986\tAverage F1: 0.9041\n",
      "Validation set: Average loss: 0.2054\tAverage F1: 0.7658\n",
      "=> Saving checkpoint\n",
      "Epoch 76/100\n"
     ]
    },
    {
     "name": "stderr",
     "output_type": "stream",
     "text": [
      "100%|██████████| 20/20 [00:10<00:00,  1.89it/s]\n"
     ]
    },
    {
     "name": "stdout",
     "output_type": "stream",
     "text": [
      "Train set: Average loss: 0.0974\tAverage F1: 0.9078\n",
      "Validation set: Average loss: 0.2218\tAverage F1: 0.7557\n",
      "=> Saving checkpoint\n",
      "Epoch 77/100\n"
     ]
    },
    {
     "name": "stderr",
     "output_type": "stream",
     "text": [
      "100%|██████████| 20/20 [00:10<00:00,  1.89it/s]\n"
     ]
    },
    {
     "name": "stdout",
     "output_type": "stream",
     "text": [
      "Train set: Average loss: 0.1096\tAverage F1: 0.8937\n",
      "Validation set: Average loss: 0.1903\tAverage F1: 0.7928\n",
      "=> Saving checkpoint\n",
      "Epoch 78/100\n"
     ]
    },
    {
     "name": "stderr",
     "output_type": "stream",
     "text": [
      "100%|██████████| 20/20 [00:10<00:00,  1.90it/s]\n"
     ]
    },
    {
     "name": "stdout",
     "output_type": "stream",
     "text": [
      "Train set: Average loss: 0.1131\tAverage F1: 0.8864\n",
      "Validation set: Average loss: 0.1819\tAverage F1: 0.8116\n",
      "=> Saving checkpoint\n",
      "Epoch 79/100\n"
     ]
    },
    {
     "name": "stderr",
     "output_type": "stream",
     "text": [
      "100%|██████████| 20/20 [00:10<00:00,  1.89it/s]\n"
     ]
    },
    {
     "name": "stdout",
     "output_type": "stream",
     "text": [
      "Train set: Average loss: 0.1063\tAverage F1: 0.8953\n",
      "Validation set: Average loss: 0.2216\tAverage F1: 0.7580\n",
      "=> Saving checkpoint\n",
      "Epoch 80/100\n"
     ]
    },
    {
     "name": "stderr",
     "output_type": "stream",
     "text": [
      "100%|██████████| 20/20 [00:10<00:00,  1.90it/s]\n"
     ]
    },
    {
     "name": "stdout",
     "output_type": "stream",
     "text": [
      "Train set: Average loss: 0.1015\tAverage F1: 0.9024\n",
      "Validation set: Average loss: 0.1789\tAverage F1: 0.8099\n",
      "=> Saving checkpoint\n",
      "Epoch 81/100\n"
     ]
    },
    {
     "name": "stderr",
     "output_type": "stream",
     "text": [
      "100%|██████████| 20/20 [00:10<00:00,  1.89it/s]\n"
     ]
    },
    {
     "name": "stdout",
     "output_type": "stream",
     "text": [
      "Train set: Average loss: 0.0980\tAverage F1: 0.9046\n",
      "Validation set: Average loss: 0.2025\tAverage F1: 0.7699\n",
      "=> Saving checkpoint\n",
      "Epoch 82/100\n"
     ]
    },
    {
     "name": "stderr",
     "output_type": "stream",
     "text": [
      "100%|██████████| 20/20 [00:10<00:00,  1.89it/s]\n"
     ]
    },
    {
     "name": "stdout",
     "output_type": "stream",
     "text": [
      "Train set: Average loss: 0.0960\tAverage F1: 0.9052\n",
      "Validation set: Average loss: 0.1677\tAverage F1: 0.8402\n",
      "=> Saving checkpoint\n",
      "Epoch 83/100\n"
     ]
    },
    {
     "name": "stderr",
     "output_type": "stream",
     "text": [
      "100%|██████████| 20/20 [00:10<00:00,  1.90it/s]\n"
     ]
    },
    {
     "name": "stdout",
     "output_type": "stream",
     "text": [
      "Train set: Average loss: 0.0964\tAverage F1: 0.9050\n",
      "Validation set: Average loss: 0.1894\tAverage F1: 0.8115\n",
      "=> Saving checkpoint\n",
      "Epoch 84/100\n"
     ]
    },
    {
     "name": "stderr",
     "output_type": "stream",
     "text": [
      "100%|██████████| 20/20 [00:10<00:00,  1.89it/s]\n"
     ]
    },
    {
     "name": "stdout",
     "output_type": "stream",
     "text": [
      "Train set: Average loss: 0.1049\tAverage F1: 0.8939\n",
      "Validation set: Average loss: 0.1854\tAverage F1: 0.8087\n",
      "=> Saving checkpoint\n",
      "Epoch 85/100\n"
     ]
    },
    {
     "name": "stderr",
     "output_type": "stream",
     "text": [
      "100%|██████████| 20/20 [00:10<00:00,  1.88it/s]\n"
     ]
    },
    {
     "name": "stdout",
     "output_type": "stream",
     "text": [
      "Train set: Average loss: 0.1024\tAverage F1: 0.8982\n",
      "Validation set: Average loss: 0.1920\tAverage F1: 0.8136\n",
      "=> Saving checkpoint\n",
      "Epoch 86/100\n"
     ]
    },
    {
     "name": "stderr",
     "output_type": "stream",
     "text": [
      "100%|██████████| 20/20 [00:10<00:00,  1.89it/s]\n"
     ]
    },
    {
     "name": "stdout",
     "output_type": "stream",
     "text": [
      "Train set: Average loss: 0.1074\tAverage F1: 0.8942\n",
      "Validation set: Average loss: 0.1954\tAverage F1: 0.7909\n",
      "=> Saving checkpoint\n",
      "Epoch 87/100\n"
     ]
    },
    {
     "name": "stderr",
     "output_type": "stream",
     "text": [
      "100%|██████████| 20/20 [00:10<00:00,  1.89it/s]\n"
     ]
    },
    {
     "name": "stdout",
     "output_type": "stream",
     "text": [
      "Train set: Average loss: 0.1005\tAverage F1: 0.9000\n",
      "Validation set: Average loss: 0.1899\tAverage F1: 0.7922\n",
      "=> Saving checkpoint\n",
      "Epoch 88/100\n"
     ]
    },
    {
     "name": "stderr",
     "output_type": "stream",
     "text": [
      "100%|██████████| 20/20 [00:10<00:00,  2.00it/s]\n"
     ]
    },
    {
     "name": "stdout",
     "output_type": "stream",
     "text": [
      "Train set: Average loss: 0.0990\tAverage F1: 0.8999\n",
      "Validation set: Average loss: 0.1870\tAverage F1: 0.8039\n",
      "=> Saving checkpoint\n",
      "Epoch 89/100\n"
     ]
    },
    {
     "name": "stderr",
     "output_type": "stream",
     "text": [
      "100%|██████████| 20/20 [00:10<00:00,  1.89it/s]\n"
     ]
    },
    {
     "name": "stdout",
     "output_type": "stream",
     "text": [
      "Train set: Average loss: 0.0931\tAverage F1: 0.9076\n",
      "Validation set: Average loss: 0.1691\tAverage F1: 0.8293\n",
      "=> Saving checkpoint\n",
      "Epoch 90/100\n"
     ]
    },
    {
     "name": "stderr",
     "output_type": "stream",
     "text": [
      "100%|██████████| 20/20 [00:09<00:00,  2.04it/s]\n"
     ]
    },
    {
     "name": "stdout",
     "output_type": "stream",
     "text": [
      "Train set: Average loss: 0.0887\tAverage F1: 0.9136\n",
      "Validation set: Average loss: 0.1685\tAverage F1: 0.8362\n",
      "=> Saving checkpoint\n",
      "Epoch 91/100\n"
     ]
    },
    {
     "name": "stderr",
     "output_type": "stream",
     "text": [
      "100%|██████████| 20/20 [00:10<00:00,  1.88it/s]\n"
     ]
    },
    {
     "name": "stdout",
     "output_type": "stream",
     "text": [
      "Train set: Average loss: 0.0883\tAverage F1: 0.9129\n",
      "Validation set: Average loss: 0.1981\tAverage F1: 0.7991\n",
      "=> Saving checkpoint\n",
      "Epoch 92/100\n"
     ]
    },
    {
     "name": "stderr",
     "output_type": "stream",
     "text": [
      "100%|██████████| 20/20 [00:09<00:00,  2.05it/s]\n"
     ]
    },
    {
     "name": "stdout",
     "output_type": "stream",
     "text": [
      "Train set: Average loss: 0.0896\tAverage F1: 0.9087\n",
      "Validation set: Average loss: 0.1893\tAverage F1: 0.7998\n",
      "=> Saving checkpoint\n",
      "Epoch 93/100\n"
     ]
    },
    {
     "name": "stderr",
     "output_type": "stream",
     "text": [
      "100%|██████████| 20/20 [00:10<00:00,  1.89it/s]\n"
     ]
    },
    {
     "name": "stdout",
     "output_type": "stream",
     "text": [
      "Train set: Average loss: 0.0865\tAverage F1: 0.9145\n",
      "Validation set: Average loss: 0.1857\tAverage F1: 0.7924\n",
      "=> Saving checkpoint\n",
      "Epoch 94/100\n"
     ]
    },
    {
     "name": "stderr",
     "output_type": "stream",
     "text": [
      "100%|██████████| 20/20 [00:10<00:00,  1.90it/s]\n"
     ]
    },
    {
     "name": "stdout",
     "output_type": "stream",
     "text": [
      "Train set: Average loss: 0.0913\tAverage F1: 0.9099\n",
      "Validation set: Average loss: 0.2155\tAverage F1: 0.7715\n",
      "=> Saving checkpoint\n",
      "Epoch 95/100\n"
     ]
    },
    {
     "name": "stderr",
     "output_type": "stream",
     "text": [
      "100%|██████████| 20/20 [00:10<00:00,  1.96it/s]\n"
     ]
    },
    {
     "name": "stdout",
     "output_type": "stream",
     "text": [
      "Train set: Average loss: 0.0917\tAverage F1: 0.9083\n",
      "Validation set: Average loss: 0.1919\tAverage F1: 0.7925\n",
      "=> Saving checkpoint\n",
      "Epoch 96/100\n"
     ]
    },
    {
     "name": "stderr",
     "output_type": "stream",
     "text": [
      "100%|██████████| 20/20 [00:10<00:00,  1.89it/s]\n"
     ]
    },
    {
     "name": "stdout",
     "output_type": "stream",
     "text": [
      "Train set: Average loss: 0.0869\tAverage F1: 0.9138\n",
      "Validation set: Average loss: 0.1730\tAverage F1: 0.8137\n",
      "=> Saving checkpoint\n",
      "Epoch 97/100\n"
     ]
    },
    {
     "name": "stderr",
     "output_type": "stream",
     "text": [
      "100%|██████████| 20/20 [00:10<00:00,  1.89it/s]\n"
     ]
    },
    {
     "name": "stdout",
     "output_type": "stream",
     "text": [
      "Train set: Average loss: 0.0875\tAverage F1: 0.9135\n",
      "Validation set: Average loss: 0.2052\tAverage F1: 0.7931\n",
      "=> Saving checkpoint\n",
      "Epoch 98/100\n"
     ]
    },
    {
     "name": "stderr",
     "output_type": "stream",
     "text": [
      "100%|██████████| 20/20 [00:10<00:00,  1.89it/s]\n"
     ]
    },
    {
     "name": "stdout",
     "output_type": "stream",
     "text": [
      "Train set: Average loss: 0.0862\tAverage F1: 0.9137\n",
      "Validation set: Average loss: 0.1887\tAverage F1: 0.7984\n",
      "=> Saving checkpoint\n",
      "Epoch 99/100\n"
     ]
    },
    {
     "name": "stderr",
     "output_type": "stream",
     "text": [
      "100%|██████████| 20/20 [00:10<00:00,  1.90it/s]\n"
     ]
    },
    {
     "name": "stdout",
     "output_type": "stream",
     "text": [
      "Train set: Average loss: 0.0864\tAverage F1: 0.9144\n",
      "Validation set: Average loss: 0.1843\tAverage F1: 0.7986\n",
      "=> Saving checkpoint\n",
      "Epoch 100/100\n"
     ]
    },
    {
     "name": "stderr",
     "output_type": "stream",
     "text": [
      "100%|██████████| 20/20 [00:10<00:00,  1.90it/s]\n"
     ]
    },
    {
     "name": "stdout",
     "output_type": "stream",
     "text": [
      "Train set: Average loss: 0.0846\tAverage F1: 0.9167\n",
      "Validation set: Average loss: 0.1886\tAverage F1: 0.8109\n",
      "=> Saving checkpoint\n"
     ]
    }
   ],
   "source": [
    "# train model\n",
    "\n",
    "train_loss_history = []\n",
    "train_f1_history = []\n",
    "val_loss_history = []\n",
    "val_f1_history = []\n",
    "\n",
    "for epoch in range(NUM_EPOCHS):\n",
    "\n",
    "    train_loss, train_f1 = train_epoch(model, optimizer, criterion, train_loader, epoch, DEVICE)\n",
    "\n",
    "    train_loss_history.append(train_loss)\n",
    "    train_f1_history.append(train_f1)\n",
    "\n",
    "    val_loss, val_f1 = validate(model, criterion, val_loader, DEVICE)\n",
    "\n",
    "    val_loss_history.append(val_loss)\n",
    "    val_f1_history.append(val_f1)\n",
    "\n",
    "    # save model\n",
    "    checkpoint = {\n",
    "        \"state_dict\": model.state_dict(),\n",
    "        \"optimizer\":optimizer.state_dict(),\n",
    "    }\n",
    "    \n",
    "    save_checkpoint(checkpoint)\n",
    "\n",
    "    save_predictions_as_imgs(\n",
    "        val_loader, model, folder=\"saved_images/\", device=DEVICE\n",
    "    )"
   ]
  },
  {
   "cell_type": "code",
   "execution_count": 11,
   "metadata": {},
   "outputs": [],
   "source": [
    "#torch.cuda.empty_cache()"
   ]
  },
  {
   "cell_type": "code",
   "execution_count": 12,
   "metadata": {},
   "outputs": [
    {
     "data": {
      "image/png": "[encoded data removed]",
      "text/plain": [
       "<Figure size 640x480 with 1 Axes>"
      ]
     },
     "metadata": {},
     "output_type": "display_data"
    }
   ],
   "source": [
    "# plot loss and F1 score\n",
    "plt.plot(train_loss_history, label=\"train loss\")\n",
    "plt.plot(val_loss_history, label=\"val loss\")\n",
    "plt.legend()\n",
    "plt.show()"
   ]
  },
  {
   "cell_type": "code",
   "execution_count": 24,
   "metadata": {},
   "outputs": [],
   "source": [
    "# define test transforms\n",
    "test_pre_transforms = A.Compose(\n",
    "    [\n",
    "        A.Normalize(\n",
    "            mean=[0.0, 0.0, 0.0],\n",
    "            std=[1.0, 1.0, 1.0],\n",
    "            max_pixel_value=255.0,\n",
    "        ),\n",
    "        ToTensorV2(),\n",
    "    ],\n",
    ")\n",
    "test_post_transforms = A.Compose(\n",
    "    [\n",
    "        A.Resize(height=TEST_IMAGE_HEIGHT, width=TEST_IMAGE_WIDTH),\n",
    "        ToTensorV2(),\n",
    "    ],\n",
    ")"
   ]
  },
  {
   "cell_type": "code",
   "execution_count": 25,
   "metadata": {},
   "outputs": [],
   "source": [
    "# predict on test image\n",
    "def predict_image(image, image_folder, model, device):\n",
    "    model.eval()\n",
    "    image = test_pre_transforms(image=image)[\"image\"]\n",
    "    image = image.unsqueeze(0).to(device)\n",
    "    prediction = model(image)\n",
    "    prediction = torch.sigmoid(prediction)\n",
    "    prediction = (prediction > 0.5).float()\n",
    "    prediction = prediction.squeeze(0).squeeze(0)\n",
    "    prediction = test_post_transforms(image=prediction.cpu().numpy())[\"image\"]\n",
    "    torchvision.utils.save_image(\n",
    "        torch.tensor(prediction), TEST_IMAGE_DIR + image_folder + \"/\" + image_folder + \"_pred.png\"\n",
    "    )"
   ]
  },
  {
   "cell_type": "code",
   "execution_count": 26,
   "metadata": {},
   "outputs": [
    {
     "name": "stderr",
     "output_type": "stream",
     "text": [
      "C:\\Users\\Bastien Faivre\\AppData\\Local\\Temp\\ipykernel_20916\\1062265996.py:12: UserWarning: To copy construct from a tensor, it is recommended to use sourceTensor.clone().detach() or sourceTensor.clone().detach().requires_grad_(True), rather than torch.tensor(sourceTensor).\n",
      "  torch.tensor(prediction), TEST_IMAGE_DIR + image_folder + \"/\" + image_folder + \"_pred.png\"\n"
     ]
    }
   ],
   "source": [
    "# load and predict on all test images\n",
    "for image_folder in os.listdir(TEST_IMAGE_DIR):\n",
    "    img = cv2.imread(TEST_IMAGE_DIR + image_folder + \"/\" + image_folder + \".png\")\n",
    "    img = np.array(img)\n",
    "    predict_image(img, image_folder, model, DEVICE)"
   ]
  },
  {
   "cell_type": "code",
   "execution_count": 27,
   "metadata": {},
   "outputs": [
    {
     "data": {
      "image/png": "[encoded data removed]",
      "text/plain": [
       "<Figure size 640x480 with 1 Axes>"
      ]
     },
     "metadata": {},
     "output_type": "display_data"
    }
   ],
   "source": [
    "# plot F1 score\n",
    "train_f1_history = [f.cpu() for f in train_f1_history]\n",
    "val_f1_history = [f.cpu() for f in val_f1_history]\n",
    "plt.plot(train_f1_history, label=\"train F1\")\n",
    "plt.plot(val_f1_history, label=\"val F1\")\n",
    "plt.legend()\n",
    "plt.show()"
   ]
  },
  {
   "cell_type": "code",
   "execution_count": null,
   "metadata": {},
   "outputs": [],
   "source": []
  }
 ],
 "metadata": {
  "kernelspec": {
   "display_name": "Python 3.9.15 64-bit",
   "language": "python",
   "name": "python3"
  },
  "language_info": {
   "codemirror_mode": {
    "name": "ipython",
    "version": 3
   },
   "file_extension": ".py",
   "mimetype": "text/x-python",
   "name": "python",
   "nbconvert_exporter": "python",
   "pygments_lexer": "ipython3",
   "version": "3.9.15"
  },
  "vscode": {
   "interpreter": {
    "hash": "c7e05192452f125cb13be8762cc761224f4d65b3e92bafdd379139e00305cbc2"
   }
  }
 },
 "nbformat": 4,
 "nbformat_minor": 2
}
