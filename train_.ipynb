{
 "cells": [
  {
   "cell_type": "code",
   "execution_count": 1,
   "metadata": {},
   "outputs": [],
   "source": [
    "%matplotlib inline\n",
    "import numpy as np\n",
    "import matplotlib.pyplot as plt\n",
    "import os\n",
    "import torch\n",
    "import albumentations as A\n",
    "from albumentations.pytorch import ToTensorV2\n",
    "from tqdm import tqdm"
   ]
  },
  {
   "cell_type": "code",
   "execution_count": 2,
   "metadata": {},
   "outputs": [],
   "source": [
    "from dataset import *\n",
    "from utils import *\n",
    "from model import UNET\n",
    "import constants as cst\n",
    "from transforms import *\n",
    "from train import *"
   ]
  },
  {
   "cell_type": "code",
   "execution_count": 3,
   "metadata": {},
   "outputs": [],
   "source": [
    "# create model\n",
    "model = UNET(in_channels=3, out_channels=1).to(cst.DEVICE)\n",
    "# define loss function, optimizer\n",
    "criterion = torch.nn.BCEWithLogitsLoss()\n",
    "optimizer = torch.optim.AdamW(model.parameters(), lr=cst.LEARNING_RATE)"
   ]
  },
  {
   "cell_type": "code",
   "execution_count": 4,
   "metadata": {},
   "outputs": [],
   "source": [
    "# load data\n",
    "train_loader, val_loader = get_loaders(\n",
    "    cst.TRAIN_IMAGE_DIR,\n",
    "    cst.TRAIN_MASK_DIR,\n",
    "    cst.VAL_IMAGE_DIR,\n",
    "    cst.VAL_MASK_DIR,\n",
    "    cst.BATCH_SIZE,\n",
    "    train_transform,\n",
    "    val_transforms,\n",
    "    cst.NUM_WORKERS,\n",
    "    cst.PIN_MEMORY\n",
    ")"
   ]
  },
  {
   "cell_type": "code",
   "execution_count": 5,
   "metadata": {},
   "outputs": [
    {
     "name": "stdout",
     "output_type": "stream",
     "text": [
      "Epoch 1/100\n"
     ]
    },
    {
     "name": "stderr",
     "output_type": "stream",
     "text": [
      "100%|██████████| 23/23 [00:13<00:00,  1.70it/s]\n"
     ]
    },
    {
     "name": "stdout",
     "output_type": "stream",
     "text": [
      "Train set: Average loss: 0.5081\tAverage F1: 0.3933\n",
      "Validation set: Average loss: 0.7254\tAverage F1: 0.3728\n",
      "=> Saving checkpoint\n",
      "Epoch 2/100\n"
     ]
    },
    {
     "name": "stderr",
     "output_type": "stream",
     "text": [
      "100%|██████████| 23/23 [00:10<00:00,  2.27it/s]\n"
     ]
    },
    {
     "name": "stdout",
     "output_type": "stream",
     "text": [
      "Train set: Average loss: 0.4391\tAverage F1: 0.5545\n",
      "Validation set: Average loss: 0.6617\tAverage F1: 0.5024\n",
      "=> Saving checkpoint\n",
      "Epoch 3/100\n"
     ]
    },
    {
     "name": "stderr",
     "output_type": "stream",
     "text": [
      "100%|██████████| 23/23 [00:11<00:00,  1.95it/s]\n"
     ]
    },
    {
     "name": "stdout",
     "output_type": "stream",
     "text": [
      "Train set: Average loss: 0.3907\tAverage F1: 0.6106\n",
      "Validation set: Average loss: 0.3089\tAverage F1: 0.7204\n",
      "=> Saving checkpoint\n",
      "Epoch 4/100\n"
     ]
    },
    {
     "name": "stderr",
     "output_type": "stream",
     "text": [
      "100%|██████████| 23/23 [00:10<00:00,  2.09it/s]\n"
     ]
    },
    {
     "name": "stdout",
     "output_type": "stream",
     "text": [
      "Train set: Average loss: 0.3487\tAverage F1: 0.6437\n",
      "Validation set: Average loss: 0.3343\tAverage F1: 0.6174\n",
      "Epoch 5/100\n"
     ]
    },
    {
     "name": "stderr",
     "output_type": "stream",
     "text": [
      "100%|██████████| 23/23 [00:10<00:00,  2.09it/s]\n"
     ]
    },
    {
     "name": "stdout",
     "output_type": "stream",
     "text": [
      "Train set: Average loss: 0.3308\tAverage F1: 0.6556\n",
      "Validation set: Average loss: 0.3031\tAverage F1: 0.7659\n",
      "=> Saving checkpoint\n",
      "Epoch 6/100\n"
     ]
    },
    {
     "name": "stderr",
     "output_type": "stream",
     "text": [
      "100%|██████████| 23/23 [00:11<00:00,  1.94it/s]\n"
     ]
    },
    {
     "name": "stdout",
     "output_type": "stream",
     "text": [
      "Train set: Average loss: 0.3073\tAverage F1: 0.7001\n",
      "Validation set: Average loss: 0.2665\tAverage F1: 0.7499\n",
      "=> Saving checkpoint\n",
      "Epoch 7/100\n"
     ]
    },
    {
     "name": "stderr",
     "output_type": "stream",
     "text": [
      "100%|██████████| 23/23 [00:12<00:00,  1.91it/s]\n"
     ]
    },
    {
     "name": "stdout",
     "output_type": "stream",
     "text": [
      "Train set: Average loss: 0.3083\tAverage F1: 0.6771\n",
      "Validation set: Average loss: 0.2506\tAverage F1: 0.7878\n",
      "=> Saving checkpoint\n",
      "Epoch 8/100\n"
     ]
    },
    {
     "name": "stderr",
     "output_type": "stream",
     "text": [
      "100%|██████████| 23/23 [00:11<00:00,  2.02it/s]\n"
     ]
    },
    {
     "name": "stdout",
     "output_type": "stream",
     "text": [
      "Train set: Average loss: 0.2840\tAverage F1: 0.7144\n",
      "Validation set: Average loss: 0.2387\tAverage F1: 0.8115\n",
      "=> Saving checkpoint\n",
      "Epoch 9/100\n"
     ]
    },
    {
     "name": "stderr",
     "output_type": "stream",
     "text": [
      "100%|██████████| 23/23 [00:11<00:00,  2.03it/s]\n"
     ]
    },
    {
     "name": "stdout",
     "output_type": "stream",
     "text": [
      "Train set: Average loss: 0.2701\tAverage F1: 0.7486\n",
      "Validation set: Average loss: 0.2379\tAverage F1: 0.8258\n",
      "=> Saving checkpoint\n",
      "Epoch 10/100\n"
     ]
    },
    {
     "name": "stderr",
     "output_type": "stream",
     "text": [
      "100%|██████████| 23/23 [00:11<00:00,  2.01it/s]\n"
     ]
    },
    {
     "name": "stdout",
     "output_type": "stream",
     "text": [
      "Train set: Average loss: 0.2554\tAverage F1: 0.7589\n",
      "Validation set: Average loss: 0.2307\tAverage F1: 0.8042\n",
      "=> Saving checkpoint\n",
      "Epoch 11/100\n"
     ]
    },
    {
     "name": "stderr",
     "output_type": "stream",
     "text": [
      "100%|██████████| 23/23 [00:11<00:00,  2.00it/s]\n"
     ]
    },
    {
     "name": "stdout",
     "output_type": "stream",
     "text": [
      "Train set: Average loss: 0.2633\tAverage F1: 0.7553\n",
      "Validation set: Average loss: 0.2193\tAverage F1: 0.7981\n",
      "=> Saving checkpoint\n",
      "Epoch 12/100\n"
     ]
    },
    {
     "name": "stderr",
     "output_type": "stream",
     "text": [
      "100%|██████████| 23/23 [00:11<00:00,  2.00it/s]\n"
     ]
    },
    {
     "name": "stdout",
     "output_type": "stream",
     "text": [
      "Train set: Average loss: 0.2675\tAverage F1: 0.7317\n",
      "Validation set: Average loss: 0.2256\tAverage F1: 0.7798\n",
      "Epoch 13/100\n"
     ]
    },
    {
     "name": "stderr",
     "output_type": "stream",
     "text": [
      "100%|██████████| 23/23 [00:11<00:00,  2.03it/s]\n"
     ]
    },
    {
     "name": "stdout",
     "output_type": "stream",
     "text": [
      "Train set: Average loss: 0.2493\tAverage F1: 0.7550\n",
      "Validation set: Average loss: 0.1933\tAverage F1: 0.8350\n",
      "=> Saving checkpoint\n",
      "Epoch 14/100\n"
     ]
    },
    {
     "name": "stderr",
     "output_type": "stream",
     "text": [
      "100%|██████████| 23/23 [00:11<00:00,  2.03it/s]\n"
     ]
    },
    {
     "name": "stdout",
     "output_type": "stream",
     "text": [
      "Train set: Average loss: 0.2428\tAverage F1: 0.7669\n",
      "Validation set: Average loss: 0.1945\tAverage F1: 0.8451\n",
      "Epoch 15/100\n"
     ]
    },
    {
     "name": "stderr",
     "output_type": "stream",
     "text": [
      "100%|██████████| 23/23 [00:11<00:00,  2.02it/s]\n"
     ]
    },
    {
     "name": "stdout",
     "output_type": "stream",
     "text": [
      "Train set: Average loss: 0.2287\tAverage F1: 0.7751\n",
      "Validation set: Average loss: 0.1965\tAverage F1: 0.8470\n",
      "Epoch 16/100\n"
     ]
    },
    {
     "name": "stderr",
     "output_type": "stream",
     "text": [
      "100%|██████████| 23/23 [00:11<00:00,  2.01it/s]\n"
     ]
    },
    {
     "name": "stdout",
     "output_type": "stream",
     "text": [
      "Train set: Average loss: 0.2240\tAverage F1: 0.7853\n",
      "Validation set: Average loss: 0.1791\tAverage F1: 0.8370\n",
      "=> Saving checkpoint\n",
      "Epoch 17/100\n"
     ]
    },
    {
     "name": "stderr",
     "output_type": "stream",
     "text": [
      "100%|██████████| 23/23 [00:11<00:00,  2.03it/s]\n"
     ]
    },
    {
     "name": "stdout",
     "output_type": "stream",
     "text": [
      "Train set: Average loss: 0.2221\tAverage F1: 0.7888\n",
      "Validation set: Average loss: 0.1931\tAverage F1: 0.8454\n",
      "Epoch 18/100\n"
     ]
    },
    {
     "name": "stderr",
     "output_type": "stream",
     "text": [
      "100%|██████████| 23/23 [00:11<00:00,  2.03it/s]\n"
     ]
    },
    {
     "name": "stdout",
     "output_type": "stream",
     "text": [
      "Train set: Average loss: 0.2112\tAverage F1: 0.7994\n",
      "Validation set: Average loss: 0.1885\tAverage F1: 0.8094\n",
      "Epoch 19/100\n"
     ]
    },
    {
     "name": "stderr",
     "output_type": "stream",
     "text": [
      "100%|██████████| 23/23 [00:11<00:00,  1.98it/s]\n"
     ]
    },
    {
     "name": "stdout",
     "output_type": "stream",
     "text": [
      "Train set: Average loss: 0.2178\tAverage F1: 0.7892\n",
      "Validation set: Average loss: 0.1754\tAverage F1: 0.8462\n",
      "=> Saving checkpoint\n",
      "Epoch 20/100\n"
     ]
    },
    {
     "name": "stderr",
     "output_type": "stream",
     "text": [
      "100%|██████████| 23/23 [00:11<00:00,  2.04it/s]\n"
     ]
    },
    {
     "name": "stdout",
     "output_type": "stream",
     "text": [
      "Train set: Average loss: 0.2104\tAverage F1: 0.7856\n",
      "Validation set: Average loss: 0.2439\tAverage F1: 0.7131\n",
      "Epoch 21/100\n"
     ]
    },
    {
     "name": "stderr",
     "output_type": "stream",
     "text": [
      "100%|██████████| 23/23 [00:11<00:00,  2.02it/s]\n"
     ]
    },
    {
     "name": "stdout",
     "output_type": "stream",
     "text": [
      "Train set: Average loss: 0.2098\tAverage F1: 0.7896\n",
      "Validation set: Average loss: 0.1687\tAverage F1: 0.8528\n",
      "=> Saving checkpoint\n",
      "Epoch 22/100\n"
     ]
    },
    {
     "name": "stderr",
     "output_type": "stream",
     "text": [
      "100%|██████████| 23/23 [00:11<00:00,  2.03it/s]\n"
     ]
    },
    {
     "name": "stdout",
     "output_type": "stream",
     "text": [
      "Train set: Average loss: 0.2029\tAverage F1: 0.7944\n",
      "Validation set: Average loss: 0.1558\tAverage F1: 0.8781\n",
      "=> Saving checkpoint\n",
      "Epoch 23/100\n"
     ]
    },
    {
     "name": "stderr",
     "output_type": "stream",
     "text": [
      "100%|██████████| 23/23 [00:11<00:00,  2.05it/s]\n"
     ]
    },
    {
     "name": "stdout",
     "output_type": "stream",
     "text": [
      "Train set: Average loss: 0.1936\tAverage F1: 0.8179\n",
      "Validation set: Average loss: 0.1569\tAverage F1: 0.8616\n",
      "Epoch 24/100\n"
     ]
    },
    {
     "name": "stderr",
     "output_type": "stream",
     "text": [
      "100%|██████████| 23/23 [00:11<00:00,  2.01it/s]\n"
     ]
    },
    {
     "name": "stdout",
     "output_type": "stream",
     "text": [
      "Train set: Average loss: 0.2044\tAverage F1: 0.7992\n",
      "Validation set: Average loss: 0.2693\tAverage F1: 0.6775\n",
      "Epoch 25/100\n"
     ]
    },
    {
     "name": "stderr",
     "output_type": "stream",
     "text": [
      "100%|██████████| 23/23 [00:11<00:00,  2.03it/s]\n"
     ]
    },
    {
     "name": "stdout",
     "output_type": "stream",
     "text": [
      "Train set: Average loss: 0.1938\tAverage F1: 0.8125\n",
      "Validation set: Average loss: 0.1583\tAverage F1: 0.8712\n",
      "Epoch 26/100\n"
     ]
    },
    {
     "name": "stderr",
     "output_type": "stream",
     "text": [
      "100%|██████████| 23/23 [00:11<00:00,  2.03it/s]\n"
     ]
    },
    {
     "name": "stdout",
     "output_type": "stream",
     "text": [
      "Train set: Average loss: 0.1778\tAverage F1: 0.8365\n",
      "Validation set: Average loss: 0.1752\tAverage F1: 0.8305\n",
      "Epoch 27/100\n"
     ]
    },
    {
     "name": "stderr",
     "output_type": "stream",
     "text": [
      "100%|██████████| 23/23 [00:11<00:00,  2.02it/s]\n"
     ]
    },
    {
     "name": "stdout",
     "output_type": "stream",
     "text": [
      "Train set: Average loss: 0.1977\tAverage F1: 0.8008\n",
      "Validation set: Average loss: 0.1758\tAverage F1: 0.8429\n",
      "Epoch 28/100\n"
     ]
    },
    {
     "name": "stderr",
     "output_type": "stream",
     "text": [
      "100%|██████████| 23/23 [00:11<00:00,  2.03it/s]\n"
     ]
    },
    {
     "name": "stdout",
     "output_type": "stream",
     "text": [
      "Train set: Average loss: 0.1872\tAverage F1: 0.8115\n",
      "Validation set: Average loss: 0.1564\tAverage F1: 0.8446\n",
      "Epoch 29/100\n"
     ]
    },
    {
     "name": "stderr",
     "output_type": "stream",
     "text": [
      "100%|██████████| 23/23 [00:11<00:00,  2.02it/s]\n"
     ]
    },
    {
     "name": "stdout",
     "output_type": "stream",
     "text": [
      "Train set: Average loss: 0.1816\tAverage F1: 0.8269\n",
      "Validation set: Average loss: 0.1530\tAverage F1: 0.8708\n",
      "=> Saving checkpoint\n",
      "Epoch 30/100\n"
     ]
    },
    {
     "name": "stderr",
     "output_type": "stream",
     "text": [
      "100%|██████████| 23/23 [00:11<00:00,  2.00it/s]\n"
     ]
    },
    {
     "name": "stdout",
     "output_type": "stream",
     "text": [
      "Train set: Average loss: 0.1745\tAverage F1: 0.8319\n",
      "Validation set: Average loss: 0.1641\tAverage F1: 0.8326\n",
      "Epoch 31/100\n"
     ]
    },
    {
     "name": "stderr",
     "output_type": "stream",
     "text": [
      "100%|██████████| 23/23 [00:11<00:00,  2.01it/s]\n"
     ]
    },
    {
     "name": "stdout",
     "output_type": "stream",
     "text": [
      "Train set: Average loss: 0.1679\tAverage F1: 0.8403\n",
      "Validation set: Average loss: 0.2139\tAverage F1: 0.7496\n",
      "Epoch 32/100\n"
     ]
    },
    {
     "name": "stderr",
     "output_type": "stream",
     "text": [
      "100%|██████████| 23/23 [00:11<00:00,  1.99it/s]\n"
     ]
    },
    {
     "name": "stdout",
     "output_type": "stream",
     "text": [
      "Train set: Average loss: 0.1702\tAverage F1: 0.8330\n",
      "Validation set: Average loss: 0.1472\tAverage F1: 0.8682\n",
      "=> Saving checkpoint\n"
     ]
    },
    {
     "ename": "KeyboardInterrupt",
     "evalue": "",
     "output_type": "error",
     "traceback": [
      "\u001b[1;31m---------------------------------------------------------------------------\u001b[0m",
      "\u001b[1;31mKeyboardInterrupt\u001b[0m                         Traceback (most recent call last)",
      "Cell \u001b[1;32mIn[5], line 2\u001b[0m\n\u001b[0;32m      1\u001b[0m \u001b[39m# train model\u001b[39;00m\n\u001b[1;32m----> 2\u001b[0m train_loss_history, train_f1_history, val_loss_history, val_f1_history \u001b[39m=\u001b[39m train(\n\u001b[0;32m      3\u001b[0m     model,\n\u001b[0;32m      4\u001b[0m     optimizer,\n\u001b[0;32m      5\u001b[0m     criterion,\n\u001b[0;32m      6\u001b[0m     train_loader,\n\u001b[0;32m      7\u001b[0m     val_loader\n\u001b[0;32m      8\u001b[0m )\n",
      "File \u001b[1;32mc:\\Users\\Bastien Faivre\\Documents\\ml-project-2-hiiiii\\train.py:77\u001b[0m, in \u001b[0;36mtrain\u001b[1;34m(model, optimizer, criterion, train_loader, val_loader)\u001b[0m\n\u001b[0;32m     71\u001b[0m         checkpoint \u001b[39m=\u001b[39m {\n\u001b[0;32m     72\u001b[0m             \u001b[39m\"\u001b[39m\u001b[39mstate_dict\u001b[39m\u001b[39m\"\u001b[39m: model\u001b[39m.\u001b[39mstate_dict(),\n\u001b[0;32m     73\u001b[0m             \u001b[39m\"\u001b[39m\u001b[39moptimizer\u001b[39m\u001b[39m\"\u001b[39m:optimizer\u001b[39m.\u001b[39mstate_dict(),\n\u001b[0;32m     74\u001b[0m         }\n\u001b[0;32m     75\u001b[0m         save_checkpoint(checkpoint)\n\u001b[1;32m---> 77\u001b[0m     save_predictions_as_imgs(\n\u001b[0;32m     78\u001b[0m         val_loader, model, folder\u001b[39m=\u001b[39;49m\u001b[39m\"\u001b[39;49m\u001b[39msaved_images/\u001b[39;49m\u001b[39m\"\u001b[39;49m, device\u001b[39m=\u001b[39;49mcst\u001b[39m.\u001b[39;49mDEVICE\n\u001b[0;32m     79\u001b[0m     )\n\u001b[0;32m     81\u001b[0m \u001b[39mreturn\u001b[39;00m train_loss_history, train_f1_history, val_loss_history, val_f1_history\n",
      "File \u001b[1;32mc:\\Users\\Bastien Faivre\\.conda\\envs\\myenv\\lib\\site-packages\\torch\\autograd\\grad_mode.py:27\u001b[0m, in \u001b[0;36m_DecoratorContextManager.__call__.<locals>.decorate_context\u001b[1;34m(*args, **kwargs)\u001b[0m\n\u001b[0;32m     24\u001b[0m \u001b[39m@functools\u001b[39m\u001b[39m.\u001b[39mwraps(func)\n\u001b[0;32m     25\u001b[0m \u001b[39mdef\u001b[39;00m \u001b[39mdecorate_context\u001b[39m(\u001b[39m*\u001b[39margs, \u001b[39m*\u001b[39m\u001b[39m*\u001b[39mkwargs):\n\u001b[0;32m     26\u001b[0m     \u001b[39mwith\u001b[39;00m \u001b[39mself\u001b[39m\u001b[39m.\u001b[39mclone():\n\u001b[1;32m---> 27\u001b[0m         \u001b[39mreturn\u001b[39;00m func(\u001b[39m*\u001b[39margs, \u001b[39m*\u001b[39m\u001b[39m*\u001b[39mkwargs)\n",
      "File \u001b[1;32mc:\\Users\\Bastien Faivre\\Documents\\ml-project-2-hiiiii\\utils.py:60\u001b[0m, in \u001b[0;36msave_predictions_as_imgs\u001b[1;34m(loader, model, folder, device)\u001b[0m\n\u001b[0;32m     58\u001b[0m predictions \u001b[39m=\u001b[39m torch\u001b[39m.\u001b[39msigmoid(predictions)\n\u001b[0;32m     59\u001b[0m predictions \u001b[39m=\u001b[39m (predictions \u001b[39m>\u001b[39m \u001b[39m0.5\u001b[39m)\u001b[39m.\u001b[39mfloat()\n\u001b[1;32m---> 60\u001b[0m predictions \u001b[39m=\u001b[39m predictions\u001b[39m.\u001b[39;49mcpu()\u001b[39m.\u001b[39mnumpy()\n\u001b[0;32m     61\u001b[0m torchvision\u001b[39m.\u001b[39mutils\u001b[39m.\u001b[39msave_image(\n\u001b[0;32m     62\u001b[0m     torch\u001b[39m.\u001b[39mtensor(predictions), \u001b[39mf\u001b[39m\u001b[39m\"\u001b[39m\u001b[39m{\u001b[39;00mfolder\u001b[39m}\u001b[39;00m\u001b[39m/pred_\u001b[39m\u001b[39m{\u001b[39;00midx\u001b[39m}\u001b[39;00m\u001b[39m.png\u001b[39m\u001b[39m\"\u001b[39m\n\u001b[0;32m     63\u001b[0m )\n\u001b[0;32m     64\u001b[0m torchvision\u001b[39m.\u001b[39mutils\u001b[39m.\u001b[39msave_image(y\u001b[39m.\u001b[39munsqueeze(\u001b[39m1\u001b[39m), \u001b[39mf\u001b[39m\u001b[39m\"\u001b[39m\u001b[39m{\u001b[39;00mfolder\u001b[39m}\u001b[39;00m\u001b[39m{\u001b[39;00midx\u001b[39m}\u001b[39;00m\u001b[39m.png\u001b[39m\u001b[39m\"\u001b[39m)\n",
      "\u001b[1;31mKeyboardInterrupt\u001b[0m: "
     ]
    }
   ],
   "source": [
    "# train model\n",
    "train_loss_history, train_f1_history, val_loss_history, val_f1_history = train(\n",
    "    model,\n",
    "    optimizer,\n",
    "    criterion,\n",
    "    train_loader,\n",
    "    val_loader\n",
    ")"
   ]
  },
  {
   "cell_type": "code",
   "execution_count": null,
   "metadata": {},
   "outputs": [
    {
     "data": {
      "image/png": "[encoded data removed]",
      "text/plain": [
       "<Figure size 640x480 with 1 Axes>"
      ]
     },
     "metadata": {},
     "output_type": "display_data"
    },
    {
     "data": {
      "image/png": "[encoded data removed]",
      "text/plain": [
       "<Figure size 640x480 with 1 Axes>"
      ]
     },
     "metadata": {},
     "output_type": "display_data"
    }
   ],
   "source": [
    "# plot loss\n",
    "plt.plot(train_loss_history, label=\"train loss\")\n",
    "plt.plot(val_loss_history, label=\"val loss\")\n",
    "plt.legend()\n",
    "plt.show()\n",
    "# plot F1 score\n",
    "train_f1_history = [f.cpu() for f in train_f1_history]\n",
    "val_f1_history = [f.cpu() for f in val_f1_history]\n",
    "plt.plot(train_f1_history, label=\"train F1\")\n",
    "plt.plot(val_f1_history, label=\"val F1\")\n",
    "plt.legend()\n",
    "plt.show()"
   ]
  },
  {
   "cell_type": "code",
   "execution_count": null,
   "metadata": {},
   "outputs": [],
   "source": [
    "# predict on test data\n",
    "predict_test_images(model)"
   ]
  },
  {
   "cell_type": "code",
   "execution_count": null,
   "metadata": {},
   "outputs": [],
   "source": [
    "test_pre_transforms = A.Compose(\n",
    "    [\n",
    "        A.Normalize(\n",
    "            mean=[0.0, 0.0, 0.0],\n",
    "            std=[1.0, 1.0, 1.0],\n",
    "            max_pixel_value=255.0,\n",
    "        ),\n",
    "        ToTensorV2(),\n",
    "    ],\n",
    ")\n",
    "\n",
    "test_post_transforms = A.Compose(\n",
    "    [\n",
    "        A.Resize(height=cst.TEST_IMAGE_HEIGHT, width=cst.TEST_IMAGE_WIDTH),\n",
    "        ToTensorV2(),\n",
    "    ],\n",
    ")\n",
    "\n",
    "def predict_image(image, image_folder, model, device):\n",
    "    model.eval()\n",
    "    image = test_pre_transforms(image=image)[\"image\"]\n",
    "    image = image.unsqueeze(0).to(device)\n",
    "    prediction = model(image)\n",
    "    prediction = torch.sigmoid(prediction)\n",
    "    prediction = (prediction > 0.5).float()\n",
    "    prediction = prediction.squeeze(0).squeeze(0)\n",
    "    prediction = test_post_transforms(image=prediction.cpu().numpy())[\"image\"]\n",
    "    torchvision.utils.save_image(\n",
    "        torch.tensor(prediction), cst.TEST_IMAGE_DIR + image_folder + \"/\" + image_folder + \"_pred.png\"\n",
    "    )"
   ]
  },
  {
   "cell_type": "code",
   "execution_count": null,
   "metadata": {},
   "outputs": [
    {
     "name": "stderr",
     "output_type": "stream",
     "text": [
      "C:\\Users\\Bastien Faivre\\AppData\\Local\\Temp\\ipykernel_24544\\1227393350.py:29: UserWarning: To copy construct from a tensor, it is recommended to use sourceTensor.clone().detach() or sourceTensor.clone().detach().requires_grad_(True), rather than torch.tensor(sourceTensor).\n",
      "  torch.tensor(prediction), cst.TEST_IMAGE_DIR + image_folder + \"/\" + image_folder + \"_pred.png\"\n"
     ]
    }
   ],
   "source": [
    "# load and predict on all test images\n",
    "for image_folder in os.listdir(cst.TEST_IMAGE_DIR):\n",
    "    img = cv2.imread(cst.TEST_IMAGE_DIR + image_folder + \"/\" + image_folder + \".png\")\n",
    "    img = np.array(img)\n",
    "    predict_image(img, image_folder, model, cst.DEVICE)"
   ]
  },
  {
   "cell_type": "code",
   "execution_count": null,
   "metadata": {},
   "outputs": [],
   "source": []
  }
 ],
 "metadata": {
  "kernelspec": {
   "display_name": "Python 3.9.15 64-bit",
   "language": "python",
   "name": "python3"
  },
  "language_info": {
   "codemirror_mode": {
    "name": "ipython",
    "version": 3
   },
   "file_extension": ".py",
   "mimetype": "text/x-python",
   "name": "python",
   "nbconvert_exporter": "python",
   "pygments_lexer": "ipython3",
   "version": "3.9.15"
  },
  "vscode": {
   "interpreter": {
    "hash": "c7e05192452f125cb13be8762cc761224f4d65b3e92bafdd379139e00305cbc2"
   }
  }
 },
 "nbformat": 4,
 "nbformat_minor": 2
}
